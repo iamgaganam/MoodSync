{
 "cells": [
  {
   "cell_type": "markdown",
   "id": "764c9221-c3f1-4629-ac63-0de52fa554c9",
   "metadata": {},
   "source": [
    "## Imports"
   ]
  },
  {
   "cell_type": "code",
   "execution_count": 27,
   "id": "a28dc04e-ccbb-4077-a1dc-e5e47945e359",
   "metadata": {
    "ExecuteTime": {
     "end_time": "2024-09-25T17:44:22.169442Z",
     "start_time": "2024-09-25T17:44:21.708638Z"
    }
   },
   "outputs": [],
   "source": [
    "import numpy as np\n",
    "import pandas as pd\n",
    "from sklearn.feature_extraction.text import TfidfVectorizer\n",
    "from sklearn.model_selection import train_test_split, GridSearchCV, RandomizedSearchCV\n",
    "from sklearn import svm\n",
    "from sklearn.metrics import accuracy_score, f1_score, classification_report"
   ]
  },
  {
   "cell_type": "markdown",
   "id": "8f97dbc6-5e43-411d-86f3-d48b50b1d9e5",
   "metadata": {},
   "source": [
    "## Loading the Dataset"
   ]
  },
  {
   "cell_type": "code",
   "execution_count": 13,
   "id": "ec06dc06-15e4-4b8f-9060-57c30902125c",
   "metadata": {
    "ExecuteTime": {
     "end_time": "2024-09-25T17:44:22.277159Z",
     "start_time": "2024-09-25T17:44:22.178456Z"
    }
   },
   "outputs": [
    {
     "name": "stdout",
     "output_type": "stream",
     "text": [
      "Dataset loaded successfully. Shape: (20491, 2)\n"
     ]
    }
   ],
   "source": [
    "df = pd.read_csv(\"Tripadvisor_Hotel_Reviews.csv\")\n",
    "print(\"Dataset loaded successfully. Shape:\", df.shape)"
   ]
  },
  {
   "cell_type": "markdown",
   "id": "1e770279-9a3c-4384-b02d-e5e43a6f03fb",
   "metadata": {},
   "source": [
    "## Preprocessing the Data"
   ]
  },
  {
   "cell_type": "code",
   "execution_count": 14,
   "id": "807972a6-07d3-4cb1-acde-92c3813df9dc",
   "metadata": {
    "ExecuteTime": {
     "end_time": "2024-09-25T17:44:22.688948Z",
     "start_time": "2024-09-25T17:44:22.681813Z"
    }
   },
   "outputs": [
    {
     "name": "stdout",
     "output_type": "stream",
     "text": [
      "Data Preprocessing completed. Balanced dataset shape: (6428, 3)\n",
      "Sentiment distribution:\n",
      " Sentiment\n",
      "Negative    3214\n",
      "Positive    3214\n",
      "Name: count, dtype: int64\n"
     ]
    }
   ],
   "source": [
    "# Balancing the dataset with only Positive and Negative classes\n",
    "df_neg = df[df[\"Rating\"] < 3].reset_index(drop=True)  # Negative reviews (Rating < 3)\n",
    "df_five = df[df[\"Rating\"] == 5].reset_index(drop=True)  # Positive reviews (Rating == 5)\n",
    "df_pos = df_five[:len(df_neg)]  # Balance with equal positive samples\n",
    "\n",
    "# Combine the positive and negative samples\n",
    "df_all = pd.concat([df_neg, df_pos], axis=0).reset_index(drop=True)\n",
    "df_all[\"Sentiment\"] = np.where(df_all[\"Rating\"] == 5, \"Positive\", \"Negative\")  # Create sentiment labels\n",
    "df_all = df_all.sample(frac=1, random_state=42).reset_index(drop=True)  # Shuffle data\n",
    "\n",
    "print(\"Data Preprocessing completed. Balanced dataset shape:\", df_all.shape)\n",
    "print(\"Sentiment distribution:\\n\", df_all[\"Sentiment\"].value_counts())"
   ]
  },
  {
   "cell_type": "markdown",
   "id": "1bc3a1c2-c571-48b9-95f1-7358ad902ed0",
   "metadata": {},
   "source": [
    "## Shuffling and Splitting Data"
   ]
  },
  {
   "cell_type": "code",
   "execution_count": 15,
   "id": "1f8fa9b0-778e-4700-a3c2-8efd7a8e8ee1",
   "metadata": {
    "ExecuteTime": {
     "end_time": "2024-09-25T17:44:24.037257Z",
     "start_time": "2024-09-25T17:44:24.032670Z"
    }
   },
   "outputs": [
    {
     "name": "stdout",
     "output_type": "stream",
     "text": [
      "Training set size: 5142\n",
      "Test set size: 1286\n"
     ]
    }
   ],
   "source": [
    "x_train, x_test, y_train, y_test = train_test_split(df_all[\"Review\"], df_all[\"Sentiment\"], test_size=0.2, random_state=42)\n",
    "print(\"Training set size:\", x_train.shape[0])\n",
    "print(\"Test set size:\", x_test.shape[0])"
   ]
  },
  {
   "cell_type": "markdown",
   "id": "6df50955-d825-4cb0-85f6-000bdedab060",
   "metadata": {},
   "source": [
    "## Feature Extraction"
   ]
  },
  {
   "cell_type": "code",
   "execution_count": 16,
   "id": "ac2b17d5-7943-4fe8-9206-971c223e27ed",
   "metadata": {
    "ExecuteTime": {
     "end_time": "2024-09-25T17:44:24.886906Z",
     "start_time": "2024-09-25T17:44:24.048506Z"
    }
   },
   "outputs": [
    {
     "name": "stdout",
     "output_type": "stream",
     "text": [
      "TF-IDF Vectorization completed. Number of features: 19533\n"
     ]
    }
   ],
   "source": [
    "vectorizer = TfidfVectorizer(min_df=5, ngram_range=(1, 2)) # Adding bigrams and minimum document frequency\n",
    "x_train_vec = vectorizer.fit_transform(x_train)\n",
    "x_test_vec = vectorizer.transform(x_test)\n",
    "print(\"TF-IDF Vectorization completed. Number of features:\", x_train_vec.shape[1])"
   ]
  },
  {
   "cell_type": "markdown",
   "id": "89270732-c195-49ca-9a07-a1542c2ba105",
   "metadata": {},
   "source": [
    "## Hyperparameter tuning for SVM Model"
   ]
  },
  {
   "cell_type": "code",
   "execution_count": 19,
   "id": "1a200f79-b911-4826-ad94-8fc622c47746",
   "metadata": {},
   "outputs": [
    {
     "name": "stdout",
     "output_type": "stream",
     "text": [
      "Hyperparameter Tuning completed. Best parameters: {'kernel': 'linear', 'gamma': 'scale', 'C': 1}\n"
     ]
    }
   ],
   "source": [
    "param_grid = {'C': [0.1, 1, 10], 'kernel': ['linear', 'rbf'], 'gamma': ['scale', 'auto']}\n",
    "clf_svm = RandomizedSearchCV(svm.SVC(), param_grid, scoring='f1_macro', cv=3, n_iter=10, random_state=42)  # Using randomized search for faster tuning\n",
    "clf_svm.fit(x_train_vec, y_train)\n",
    "print(\"Hyperparameter Tuning completed. Best parameters:\", clf_svm.best_params_)"
   ]
  },
  {
   "cell_type": "markdown",
   "id": "3236aa48-48a3-48a4-a8db-7307f61a88de",
   "metadata": {},
   "source": [
    "## Checking for the best model"
   ]
  },
  {
   "cell_type": "code",
   "execution_count": 20,
   "id": "85281a64-2797-4786-a19f-f81f34978e83",
   "metadata": {},
   "outputs": [
    {
     "name": "stdout",
     "output_type": "stream",
     "text": [
      "Model Evaluation:\n",
      "Accuracy: 96.42301710730948 %\n",
      "F1 Score: 0.9641989116120536\n",
      "\n",
      "Classification Report:\n",
      "               precision    recall  f1-score   support\n",
      "\n",
      "    Negative       0.97      0.96      0.96       629\n",
      "    Positive       0.96      0.97      0.97       657\n",
      "\n",
      "    accuracy                           0.96      1286\n",
      "   macro avg       0.96      0.96      0.96      1286\n",
      "weighted avg       0.96      0.96      0.96      1286\n",
      "\n"
     ]
    }
   ],
   "source": [
    "best_svm = clf_svm.best_estimator # Get the best estimator after tuning\n",
    "y_pred = best_svm.predict(x_test_vec)\n",
    "accuracy = accuracy_score(y_test, y_pred)\n",
    "f1 = f1_score(y_test, y_pred, average='macro')\n",
    "\n",
    "print(\"Model Evaluation:\")\n",
    "print(\"Accuracy:\", accuracy * 100, \"%\")\n",
    "print(\"F1 Score:\", f1)\n",
    "print(\"\\nClassification Report:\\n\", classification_report(y_test, y_pred))"
   ]
  },
  {
   "cell_type": "markdown",
   "id": "8f2c2cfe-b60f-4034-8961-38f082d5429e",
   "metadata": {},
   "source": [
    "## For testing and reviews"
   ]
  },
  {
   "cell_type": "code",
   "execution_count": 26,
   "id": "66f95a8a-e514-492f-b7d4-083842171bf1",
   "metadata": {
    "ExecuteTime": {
     "start_time": "2024-09-25T17:44:27.791224Z"
    },
    "jupyter": {
     "is_executing": true
    }
   },
   "outputs": [
    {
     "name": "stdout",
     "output_type": "stream",
     "text": [
      "Sample Review Predictions:\n",
      "Review: 'amazing food' -> Predicted Sentiment: Positive\n",
      "Review: 'good' -> Predicted Sentiment: Positive\n",
      "Review: 'horrible experience' -> Predicted Sentiment: Negative\n",
      "Review: 'great location but service was poor' -> Predicted Sentiment: Negative\n",
      "Review: 'the food is so ass' -> Predicted Sentiment: Negative\n",
      "Review: 'food is bad man' -> Predicted Sentiment: Negative\n"
     ]
    }
   ],
   "source": [
    "sample_reviews = [\"amazing food\", \"good\", \"horrible experience\", \"great location but service was poor\", \"the food is so ass\", \"food is bad man\"]\n",
    "sample_reviews_vec = vectorizer.transform(sample_reviews)\n",
    "sample_predictions = best_svm.predict(sample_reviews_vec)\n",
    "\n",
    "print(\"Sample Review Predictions:\")\n",
    "for review, sentiment in zip(sample_reviews, sample_predictions):\n",
    "    print(f\"Review: '{review}' -> Predicted Sentiment: {sentiment}\")"
   ]
  },
  {
   "cell_type": "code",
   "execution_count": null,
   "id": "ecf6299d-7776-4745-93fd-bcbbd3f21723",
   "metadata": {},
   "outputs": [],
   "source": []
  }
 ],
 "metadata": {
  "kernelspec": {
   "display_name": "Python 3 (ipykernel)",
   "language": "python",
   "name": "python3"
  },
  "language_info": {
   "codemirror_mode": {
    "name": "ipython",
    "version": 3
   },
   "file_extension": ".py",
   "mimetype": "text/x-python",
   "name": "python",
   "nbconvert_exporter": "python",
   "pygments_lexer": "ipython3",
   "version": "3.12.7"
  }
 },
 "nbformat": 4,
 "nbformat_minor": 5
}
