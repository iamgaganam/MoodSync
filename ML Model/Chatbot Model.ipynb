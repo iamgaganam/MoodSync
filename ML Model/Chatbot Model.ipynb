{
 "cells": [
  {
   "cell_type": "markdown",
   "id": "87a6baf0-159e-4e58-bf17-bef227b61984",
   "metadata": {},
   "source": [
    "## Imports"
   ]
  },
  {
   "cell_type": "code",
   "execution_count": 1,
   "id": "bf6e4870-e8ed-46b3-9589-84c067d08daa",
   "metadata": {},
   "outputs": [],
   "source": [
    "# The needed libraries were imported.\n",
    "import pandas as pd\n",
    "from sklearn.model_selection import train_test_split\n",
    "from sklearn.linear_model import LogisticRegression\n",
    "from sklearn.feature_extraction.text import TfidfVectorizer\n",
    "from sklearn.metrics import accuracy_score, classification_report\n",
    "from sklearn.preprocessing import LabelEncoder"
   ]
  },
  {
   "cell_type": "markdown",
   "id": "61b0cad7-fdc7-4f5e-9a5e-c7ac2c2ab3e7",
   "metadata": {},
   "source": [
    "## Load Dataset"
   ]
  },
  {
   "cell_type": "code",
   "execution_count": 2,
   "id": "dcf1442b-a6bb-44cb-8d7c-4bc71abed243",
   "metadata": {},
   "outputs": [
    {
     "name": "stdout",
     "output_type": "stream",
     "text": [
      "Columns in the dataset: Index(['ID', 'Statement', 'Status'], dtype='object')\n"
     ]
    }
   ],
   "source": [
    "# Reading the dataset.\n",
    "df = pd.read_csv('Mental Health Sentiments.csv')\n",
    "\n",
    "print(\"Columns in the dataset:\", df.columns)"
   ]
  },
  {
   "cell_type": "markdown",
   "id": "c288ad45-4e19-4e52-a90b-708ea193d5c3",
   "metadata": {},
   "source": [
    "## Data Preprocessing"
   ]
  },
  {
   "cell_type": "code",
   "execution_count": 3,
   "id": "bacc1431-2137-48f7-b102-7724649428d2",
   "metadata": {},
   "outputs": [],
   "source": [
    "# Handle missing values in the 'Statement' column (replacing with NaN with a placeholder).\n",
    "df['Statement'] = df['Statement'].fillna('Missing Statement') \n",
    "\n",
    "# Encode target labels if they are not already numeric.\n",
    "label_encoder = LabelEncoder()\n",
    "\n",
    "# Apply label encoding while handling NaN values properly.\n",
    "df['Status'] = label_encoder.fit_transform(df['Status'].fillna('Unknown'))\n",
    "\n",
    "# Drop rows with 'Unknown' after encoding if necessary.\n",
    "df = df[df['Status'] != label_encoder.transform(['Unknown'])[0]]"
   ]
  },
  {
   "cell_type": "markdown",
   "id": "21d057ec-be0c-4b6d-a9a2-e7f5e606842a",
   "metadata": {},
   "source": [
    "## Target Variable Setup"
   ]
  },
  {
   "cell_type": "code",
   "execution_count": 4,
   "id": "13eb680e-66ac-41b3-b362-f9d22a514563",
   "metadata": {},
   "outputs": [],
   "source": [
    "X = df['Statement']  \n",
    "y = df['Status']    "
   ]
  },
  {
   "cell_type": "markdown",
   "id": "3daeab49-808d-42cf-8982-d76c45fa76f7",
   "metadata": {},
   "source": [
    "## Text Data Vectorization"
   ]
  },
  {
   "cell_type": "code",
   "execution_count": 5,
   "id": "502b7202-b623-4a2e-8224-b2c523853295",
   "metadata": {},
   "outputs": [],
   "source": [
    "# Convert text data to numerical features by using the TfidfVectorizer.\n",
    "vectorizer = TfidfVectorizer()\n",
    "X = vectorizer.fit_transform(X) "
   ]
  },
  {
   "cell_type": "markdown",
   "id": "a455b376-d63a-4c1e-9aac-18152b7420e5",
   "metadata": {},
   "source": [
    "## Train and Test Splittings"
   ]
  },
  {
   "cell_type": "code",
   "execution_count": 6,
   "id": "c171519e-faba-4b7e-8e90-8d45157b12af",
   "metadata": {},
   "outputs": [],
   "source": [
    "X_train, X_test, y_train, y_test = train_test_split(X, y, test_size=0.2, random_state=42)"
   ]
  },
  {
   "cell_type": "markdown",
   "id": "5aa6d9d0-67ed-458f-9dc2-8406b5c080f3",
   "metadata": {},
   "source": [
    "## Training the Logistic Regression Model"
   ]
  },
  {
   "cell_type": "code",
   "execution_count": 7,
   "id": "9515a1e2-89b3-4743-bc02-4c33aeeccbf4",
   "metadata": {},
   "outputs": [
    {
     "name": "stdout",
     "output_type": "stream",
     "text": [
      "\n",
      "Model trained successfully.\n"
     ]
    }
   ],
   "source": [
    "# Fitting.\n",
    "model = LogisticRegression(max_iter=1000)\n",
    "model.fit(X_train, y_train)\n",
    "\n",
    "print(\"\\nModel trained successfully.\")"
   ]
  },
  {
   "cell_type": "markdown",
   "id": "569921fe-cb6a-4ef8-ba6a-8316557f71b1",
   "metadata": {},
   "source": [
    "## Evaluating the Model"
   ]
  },
  {
   "cell_type": "code",
   "execution_count": 8,
   "id": "d243ed61-9ad2-4ab9-9e75-8113c3e4d9f1",
   "metadata": {},
   "outputs": [
    {
     "name": "stdout",
     "output_type": "stream",
     "text": [
      "\n",
      "Accuracy of the model: 77.53793948534263 %\n",
      "\n",
      "Classification Report:\n",
      "              precision    recall  f1-score   support\n",
      "\n",
      "           0       0.81      0.76      0.78       777\n",
      "           1       0.90      0.69      0.78       588\n",
      "           2       0.71      0.75      0.73      3041\n",
      "           3       0.86      0.96      0.91      3348\n",
      "           4       0.64      0.48      0.55       234\n",
      "           5       0.73      0.45      0.55       533\n",
      "           6       0.71      0.66      0.69      2088\n",
      "\n",
      "    accuracy                           0.78     10609\n",
      "   macro avg       0.77      0.68      0.71     10609\n",
      "weighted avg       0.77      0.78      0.77     10609\n",
      "\n"
     ]
    }
   ],
   "source": [
    "# Model on test data.\n",
    "y_pred = model.predict(X_test)\n",
    "\n",
    "accuracy = accuracy_score(y_test, y_pred)\n",
    "print(\"\\nAccuracy of the model:\", accuracy * 100, \"%\")\n",
    "\n",
    "# Printing a detailed classification report (precision, recall, F1-score).\n",
    "print(\"\\nClassification Report:\")\n",
    "print(classification_report(y_test, y_pred))"
   ]
  },
  {
   "cell_type": "markdown",
   "id": "786a5c2a-6d2a-47cc-bf61-442066dea86c",
   "metadata": {},
   "source": [
    "## User Input Prediction"
   ]
  },
  {
   "cell_type": "code",
   "execution_count": 9,
   "id": "ef52cc5f-a09e-4e6c-9253-9c5a8b19cd55",
   "metadata": {},
   "outputs": [
    {
     "name": "stdout",
     "output_type": "stream",
     "text": [
      "\n",
      "Predicted class for the custom input: ['Normal']\n"
     ]
    }
   ],
   "source": [
    "custom_input = [\"Im good, feeling okay bro.\"]\n",
    "\n",
    "# Preprocess the custom input using the trained TfidfVectorizer.\n",
    "custom_input_transformed = vectorizer.transform(custom_input)\n",
    "\n",
    "# Predict using the trained model.\n",
    "custom_prediction = model.predict(custom_input_transformed)\n",
    "\n",
    "# Decode the label to get the original category name.\n",
    "predicted_label = label_encoder.inverse_transform(custom_prediction)\n",
    "\n",
    "print(\"\\nPredicted class for the custom input:\", predicted_label)"
   ]
  },
  {
   "cell_type": "code",
   "execution_count": null,
   "id": "c91acc90-1f5f-4320-b43c-bf48f81f315a",
   "metadata": {},
   "outputs": [],
   "source": []
  }
 ],
 "metadata": {
  "kernelspec": {
   "display_name": "Python 3 (ipykernel)",
   "language": "python",
   "name": "python3"
  },
  "language_info": {
   "codemirror_mode": {
    "name": "ipython",
    "version": 3
   },
   "file_extension": ".py",
   "mimetype": "text/x-python",
   "name": "python",
   "nbconvert_exporter": "python",
   "pygments_lexer": "ipython3",
   "version": "3.12.7"
  }
 },
 "nbformat": 4,
 "nbformat_minor": 5
}
